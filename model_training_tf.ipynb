{
  "nbformat": 4,
  "nbformat_minor": 5,
  "metadata": {
    "kernelspec": {
      "display_name": "Python 3",
      "language": "python",
      "name": "python3"
    },
    "language_info": {
      "codemirror_mode": {
        "name": "ipython",
        "version": 3
      },
      "file_extension": ".py",
      "mimetype": "text/x-python",
      "name": "python",
      "nbconvert_exporter": "python",
      "pygments_lexer": "ipython3",
      "version": "3.8.8"
    },
    "colab": {
      "name": "model_training_tf.ipynb",
      "provenance": []
    },
    "accelerator": "GPU"
  },
  "cells": [
    {
      "cell_type": "code",
      "metadata": {
        "colab": {
          "base_uri": "https://localhost:8080/"
        },
        "id": "aCjbA44cjVH4",
        "outputId": "c2efc4e9-4c52-4659-e5a6-de31e75e7294"
      },
      "source": [
        "from google.colab import drive\n",
        "drive.mount('/content/drive/')"
      ],
      "id": "aCjbA44cjVH4",
      "execution_count": 1,
      "outputs": [
        {
          "output_type": "stream",
          "text": [
            "Mounted at /content/drive/\n"
          ],
          "name": "stdout"
        }
      ]
    },
    {
      "cell_type": "code",
      "metadata": {
        "colab": {
          "base_uri": "https://localhost:8080/"
        },
        "id": "indian-enclosure",
        "outputId": "191c6dcd-24d4-42e5-e78e-92a690ac31a8"
      },
      "source": [
        "import matplotlib.pyplot as plt\n",
        "import numpy as np\n",
        "import pandas as pd\n",
        "import tensorflow as tf\n",
        "\n",
        "from sklearn.model_selection import train_test_split\n",
        "from tensorflow.keras import layers, losses\n",
        "from tensorflow.keras.models import Model\n",
        "\n",
        "print(\"Num GPUs Available: \", len(tf.config.list_physical_devices('GPU')))\n",
        "tf.debugging.set_log_device_placement(True)"
      ],
      "id": "indian-enclosure",
      "execution_count": 46,
      "outputs": [
        {
          "output_type": "stream",
          "text": [
            "Num GPUs Available:  1\n"
          ],
          "name": "stdout"
        }
      ]
    },
    {
      "cell_type": "code",
      "metadata": {
        "colab": {
          "base_uri": "https://localhost:8080/",
          "height": 222
        },
        "id": "relevant-singles",
        "outputId": "0a429747-c8bc-40bd-da97-7811b8cebf9b"
      },
      "source": [
        "project_path = '/content/drive/MyDrive/anomaly-detection'\n",
        "\n",
        "normal = pd.read_hdf(f'{project_path}/data/training_normal.h5')\n",
        "mean = pd.read_hdf(f'{project_path}/data/norm.h5', key='mean')\n",
        "std = pd.read_hdf(f'{project_path}/data/norm.h5', key='std')\n",
        "\n",
        "normal_data = normal.iloc[:, 3:]\n",
        "normalized_data = (normal_data - mean) / std\n",
        "\n",
        "normalized_data.head()"
      ],
      "id": "relevant-singles",
      "execution_count": 3,
      "outputs": [
        {
          "output_type": "execute_result",
          "data": {
            "text/html": [
              "<div>\n",
              "<style scoped>\n",
              "    .dataframe tbody tr th:only-of-type {\n",
              "        vertical-align: middle;\n",
              "    }\n",
              "\n",
              "    .dataframe tbody tr th {\n",
              "        vertical-align: top;\n",
              "    }\n",
              "\n",
              "    .dataframe thead th {\n",
              "        text-align: right;\n",
              "    }\n",
              "</style>\n",
              "<table border=\"1\" class=\"dataframe\">\n",
              "  <thead>\n",
              "    <tr style=\"text-align: right;\">\n",
              "      <th></th>\n",
              "      <th>xmeas_1</th>\n",
              "      <th>xmeas_2</th>\n",
              "      <th>xmeas_3</th>\n",
              "      <th>xmeas_4</th>\n",
              "      <th>xmeas_5</th>\n",
              "      <th>xmeas_6</th>\n",
              "      <th>xmeas_7</th>\n",
              "      <th>xmeas_8</th>\n",
              "      <th>xmeas_9</th>\n",
              "      <th>xmeas_10</th>\n",
              "      <th>xmeas_11</th>\n",
              "      <th>xmeas_12</th>\n",
              "      <th>xmeas_13</th>\n",
              "      <th>xmeas_14</th>\n",
              "      <th>xmeas_15</th>\n",
              "      <th>xmeas_16</th>\n",
              "      <th>xmeas_17</th>\n",
              "      <th>xmeas_18</th>\n",
              "      <th>xmeas_19</th>\n",
              "      <th>xmeas_20</th>\n",
              "      <th>xmeas_21</th>\n",
              "      <th>xmeas_22</th>\n",
              "      <th>xmeas_23</th>\n",
              "      <th>xmeas_24</th>\n",
              "      <th>xmeas_25</th>\n",
              "      <th>xmeas_26</th>\n",
              "      <th>xmeas_27</th>\n",
              "      <th>xmeas_28</th>\n",
              "      <th>xmeas_29</th>\n",
              "      <th>xmeas_30</th>\n",
              "      <th>xmeas_31</th>\n",
              "      <th>xmeas_32</th>\n",
              "      <th>xmeas_33</th>\n",
              "      <th>xmeas_34</th>\n",
              "      <th>xmeas_35</th>\n",
              "      <th>xmeas_36</th>\n",
              "      <th>xmeas_37</th>\n",
              "      <th>xmeas_38</th>\n",
              "      <th>xmeas_39</th>\n",
              "      <th>xmeas_40</th>\n",
              "      <th>xmeas_41</th>\n",
              "      <th>xmv_1</th>\n",
              "      <th>xmv_2</th>\n",
              "      <th>xmv_3</th>\n",
              "      <th>xmv_4</th>\n",
              "      <th>xmv_5</th>\n",
              "      <th>xmv_6</th>\n",
              "      <th>xmv_7</th>\n",
              "      <th>xmv_8</th>\n",
              "      <th>xmv_9</th>\n",
              "      <th>xmv_10</th>\n",
              "      <th>xmv_11</th>\n",
              "    </tr>\n",
              "  </thead>\n",
              "  <tbody>\n",
              "    <tr>\n",
              "      <th>0</th>\n",
              "      <td>-0.003307</td>\n",
              "      <td>0.300364</td>\n",
              "      <td>0.514599</td>\n",
              "      <td>-1.342731</td>\n",
              "      <td>-0.062398</td>\n",
              "      <td>0.294726</td>\n",
              "      <td>-0.098047</td>\n",
              "      <td>-0.252914</td>\n",
              "      <td>0.522186</td>\n",
              "      <td>0.089759</td>\n",
              "      <td>-0.263281</td>\n",
              "      <td>1.424527</td>\n",
              "      <td>-0.110565</td>\n",
              "      <td>-0.129407</td>\n",
              "      <td>0.519562</td>\n",
              "      <td>-0.172634</td>\n",
              "      <td>-0.209424</td>\n",
              "      <td>-0.162180</td>\n",
              "      <td>-0.246119</td>\n",
              "      <td>-0.128175</td>\n",
              "      <td>0.302922</td>\n",
              "      <td>-0.950211</td>\n",
              "      <td>-0.000524</td>\n",
              "      <td>-0.001539</td>\n",
              "      <td>-0.001144</td>\n",
              "      <td>-0.000454</td>\n",
              "      <td>0.001316</td>\n",
              "      <td>-0.004213</td>\n",
              "      <td>-0.007948</td>\n",
              "      <td>0.001812</td>\n",
              "      <td>0.004263</td>\n",
              "      <td>-0.001579</td>\n",
              "      <td>0.003519</td>\n",
              "      <td>0.000138</td>\n",
              "      <td>-0.002805</td>\n",
              "      <td>0.006490</td>\n",
              "      <td>-0.001346</td>\n",
              "      <td>-0.000284</td>\n",
              "      <td>0.004503</td>\n",
              "      <td>-0.004778</td>\n",
              "      <td>0.002143</td>\n",
              "      <td>-0.287051</td>\n",
              "      <td>-0.489006</td>\n",
              "      <td>0.005770</td>\n",
              "      <td>1.001362</td>\n",
              "      <td>-0.150228</td>\n",
              "      <td>-0.078897</td>\n",
              "      <td>1.424527</td>\n",
              "      <td>0.520011</td>\n",
              "      <td>-0.165134</td>\n",
              "      <td>0.284191</td>\n",
              "      <td>0.224294</td>\n",
              "    </tr>\n",
              "    <tr>\n",
              "      <th>1</th>\n",
              "      <td>0.019690</td>\n",
              "      <td>-0.128967</td>\n",
              "      <td>1.218404</td>\n",
              "      <td>0.925080</td>\n",
              "      <td>-0.856779</td>\n",
              "      <td>1.091016</td>\n",
              "      <td>-0.005032</td>\n",
              "      <td>-0.000158</td>\n",
              "      <td>0.522186</td>\n",
              "      <td>-0.068269</td>\n",
              "      <td>-0.120774</td>\n",
              "      <td>0.153207</td>\n",
              "      <td>0.003854</td>\n",
              "      <td>-0.729772</td>\n",
              "      <td>-1.208793</td>\n",
              "      <td>-0.034589</td>\n",
              "      <td>0.623874</td>\n",
              "      <td>-0.199781</td>\n",
              "      <td>-0.156369</td>\n",
              "      <td>-0.079685</td>\n",
              "      <td>-0.039833</td>\n",
              "      <td>0.533895</td>\n",
              "      <td>-0.000524</td>\n",
              "      <td>-0.001539</td>\n",
              "      <td>-0.001144</td>\n",
              "      <td>-0.000454</td>\n",
              "      <td>0.001316</td>\n",
              "      <td>-0.004213</td>\n",
              "      <td>-0.007948</td>\n",
              "      <td>0.001812</td>\n",
              "      <td>0.004263</td>\n",
              "      <td>-0.001579</td>\n",
              "      <td>0.003519</td>\n",
              "      <td>0.000138</td>\n",
              "      <td>-0.002805</td>\n",
              "      <td>0.006490</td>\n",
              "      <td>-0.001346</td>\n",
              "      <td>-0.000284</td>\n",
              "      <td>0.004503</td>\n",
              "      <td>-0.004778</td>\n",
              "      <td>0.002143</td>\n",
              "      <td>0.142713</td>\n",
              "      <td>-1.191637</td>\n",
              "      <td>-0.016944</td>\n",
              "      <td>-1.639727</td>\n",
              "      <td>-0.250199</td>\n",
              "      <td>0.078954</td>\n",
              "      <td>0.153478</td>\n",
              "      <td>-1.208816</td>\n",
              "      <td>-0.195688</td>\n",
              "      <td>0.470946</td>\n",
              "      <td>-0.631769</td>\n",
              "    </tr>\n",
              "    <tr>\n",
              "      <th>2</th>\n",
              "      <td>-0.003307</td>\n",
              "      <td>-0.102502</td>\n",
              "      <td>-0.791010</td>\n",
              "      <td>1.114064</td>\n",
              "      <td>-0.128596</td>\n",
              "      <td>-1.224631</td>\n",
              "      <td>0.154424</td>\n",
              "      <td>-0.422647</td>\n",
              "      <td>1.045513</td>\n",
              "      <td>-0.113762</td>\n",
              "      <td>0.474405</td>\n",
              "      <td>0.300089</td>\n",
              "      <td>0.219978</td>\n",
              "      <td>0.082198</td>\n",
              "      <td>0.069757</td>\n",
              "      <td>0.195487</td>\n",
              "      <td>-1.660402</td>\n",
              "      <td>-0.162180</td>\n",
              "      <td>-0.200762</td>\n",
              "      <td>-0.031195</td>\n",
              "      <td>0.036335</td>\n",
              "      <td>0.656612</td>\n",
              "      <td>-1.448834</td>\n",
              "      <td>-1.194439</td>\n",
              "      <td>-0.912958</td>\n",
              "      <td>-0.522491</td>\n",
              "      <td>0.630922</td>\n",
              "      <td>-1.078046</td>\n",
              "      <td>0.072110</td>\n",
              "      <td>-0.746759</td>\n",
              "      <td>-0.205673</td>\n",
              "      <td>0.426909</td>\n",
              "      <td>0.558892</td>\n",
              "      <td>-0.116555</td>\n",
              "      <td>0.158677</td>\n",
              "      <td>1.721015</td>\n",
              "      <td>-0.001346</td>\n",
              "      <td>-0.000284</td>\n",
              "      <td>0.004503</td>\n",
              "      <td>-0.004778</td>\n",
              "      <td>0.002143</td>\n",
              "      <td>0.117030</td>\n",
              "      <td>0.816185</td>\n",
              "      <td>0.008733</td>\n",
              "      <td>-0.018895</td>\n",
              "      <td>0.308127</td>\n",
              "      <td>0.123493</td>\n",
              "      <td>0.300513</td>\n",
              "      <td>0.070048</td>\n",
              "      <td>-0.180595</td>\n",
              "      <td>0.175097</td>\n",
              "      <td>1.647422</td>\n",
              "    </tr>\n",
              "    <tr>\n",
              "      <th>3</th>\n",
              "      <td>-0.023065</td>\n",
              "      <td>-0.073095</td>\n",
              "      <td>0.083646</td>\n",
              "      <td>1.522363</td>\n",
              "      <td>-0.681826</td>\n",
              "      <td>-1.256665</td>\n",
              "      <td>0.287304</td>\n",
              "      <td>0.413106</td>\n",
              "      <td>-0.524468</td>\n",
              "      <td>-0.121743</td>\n",
              "      <td>0.830674</td>\n",
              "      <td>-0.009554</td>\n",
              "      <td>0.232691</td>\n",
              "      <td>-1.862593</td>\n",
              "      <td>0.428026</td>\n",
              "      <td>0.088118</td>\n",
              "      <td>-0.000289</td>\n",
              "      <td>-0.047027</td>\n",
              "      <td>-0.410179</td>\n",
              "      <td>0.168825</td>\n",
              "      <td>-0.969081</td>\n",
              "      <td>0.568409</td>\n",
              "      <td>-1.448834</td>\n",
              "      <td>-1.194439</td>\n",
              "      <td>-0.912958</td>\n",
              "      <td>-0.522491</td>\n",
              "      <td>0.630922</td>\n",
              "      <td>-1.078046</td>\n",
              "      <td>0.072110</td>\n",
              "      <td>-0.746759</td>\n",
              "      <td>-0.205673</td>\n",
              "      <td>0.426909</td>\n",
              "      <td>0.558892</td>\n",
              "      <td>-0.116555</td>\n",
              "      <td>0.158677</td>\n",
              "      <td>1.721015</td>\n",
              "      <td>-0.001346</td>\n",
              "      <td>-0.000284</td>\n",
              "      <td>0.004503</td>\n",
              "      <td>-0.004778</td>\n",
              "      <td>0.002143</td>\n",
              "      <td>0.087922</td>\n",
              "      <td>-0.058910</td>\n",
              "      <td>0.028155</td>\n",
              "      <td>-1.159749</td>\n",
              "      <td>0.113845</td>\n",
              "      <td>0.132008</td>\n",
              "      <td>-0.009071</td>\n",
              "      <td>0.428147</td>\n",
              "      <td>-0.110653</td>\n",
              "      <td>0.996077</td>\n",
              "      <td>-0.020296</td>\n",
              "    </tr>\n",
              "    <tr>\n",
              "      <th>4</th>\n",
              "      <td>1.411175</td>\n",
              "      <td>0.447396</td>\n",
              "      <td>-0.301407</td>\n",
              "      <td>-0.105001</td>\n",
              "      <td>-0.062398</td>\n",
              "      <td>1.429668</td>\n",
              "      <td>0.008256</td>\n",
              "      <td>0.715675</td>\n",
              "      <td>-0.524468</td>\n",
              "      <td>-0.856811</td>\n",
              "      <td>-0.179453</td>\n",
              "      <td>1.300471</td>\n",
              "      <td>-0.174131</td>\n",
              "      <td>0.923694</td>\n",
              "      <td>0.472318</td>\n",
              "      <td>0.195487</td>\n",
              "      <td>-0.227258</td>\n",
              "      <td>-0.030577</td>\n",
              "      <td>-0.076270</td>\n",
              "      <td>-0.194849</td>\n",
              "      <td>0.592360</td>\n",
              "      <td>-1.333701</td>\n",
              "      <td>0.460458</td>\n",
              "      <td>-2.997750</td>\n",
              "      <td>1.220939</td>\n",
              "      <td>-0.123286</td>\n",
              "      <td>0.021735</td>\n",
              "      <td>-0.671942</td>\n",
              "      <td>0.327111</td>\n",
              "      <td>0.103470</td>\n",
              "      <td>0.652214</td>\n",
              "      <td>-1.600546</td>\n",
              "      <td>0.263290</td>\n",
              "      <td>-1.656155</td>\n",
              "      <td>-0.202016</td>\n",
              "      <td>-1.062742</td>\n",
              "      <td>-0.001346</td>\n",
              "      <td>-0.000284</td>\n",
              "      <td>0.004503</td>\n",
              "      <td>-0.004778</td>\n",
              "      <td>0.002143</td>\n",
              "      <td>0.452622</td>\n",
              "      <td>-0.672116</td>\n",
              "      <td>1.368624</td>\n",
              "      <td>-0.467518</td>\n",
              "      <td>-0.508613</td>\n",
              "      <td>-0.596991</td>\n",
              "      <td>1.300424</td>\n",
              "      <td>0.472378</td>\n",
              "      <td>-0.225506</td>\n",
              "      <td>0.744606</td>\n",
              "      <td>0.233859</td>\n",
              "    </tr>\n",
              "  </tbody>\n",
              "</table>\n",
              "</div>"
            ],
            "text/plain": [
              "    xmeas_1   xmeas_2   xmeas_3  ...     xmv_9    xmv_10    xmv_11\n",
              "0 -0.003307  0.300364  0.514599  ... -0.165134  0.284191  0.224294\n",
              "1  0.019690 -0.128967  1.218404  ... -0.195688  0.470946 -0.631769\n",
              "2 -0.003307 -0.102502 -0.791010  ... -0.180595  0.175097  1.647422\n",
              "3 -0.023065 -0.073095  0.083646  ... -0.110653  0.996077 -0.020296\n",
              "4  1.411175  0.447396 -0.301407  ... -0.225506  0.744606  0.233859\n",
              "\n",
              "[5 rows x 52 columns]"
            ]
          },
          "metadata": {
            "tags": []
          },
          "execution_count": 3
        }
      ]
    },
    {
      "cell_type": "code",
      "metadata": {
        "colab": {
          "base_uri": "https://localhost:8080/",
          "height": 281
        },
        "id": "SbTeHf53l5yJ",
        "outputId": "d150552e-3414-431e-e75b-a924c94dcbca"
      },
      "source": [
        "variable = 'xmeas_18'\n",
        "\n",
        "plt.grid()\n",
        "plt.plot(normalized_data.index[:500], normalized_data[variable][:500])\n",
        "plt.title(f'Variable \"{variable}\" plot')\n",
        "plt.show()"
      ],
      "id": "SbTeHf53l5yJ",
      "execution_count": 4,
      "outputs": [
        {
          "output_type": "display_data",
          "data": {
            "image/png": "[encoded data removed]",
            "text/plain": [
              "<Figure size 432x288 with 1 Axes>"
            ]
          },
          "metadata": {
            "tags": [],
            "needs_background": "light"
          }
        }
      ]
    },
    {
      "cell_type": "code",
      "metadata": {
        "id": "hTMVSb5QpyMN",
        "outputId": "b38f1337-c063-4f02-f0f8-b49c4c0ff40d",
        "colab": {
          "base_uri": "https://localhost:8080/",
          "height": 281
        }
      },
      "source": [
        "plt.hist(normalized_data[variable], bins=25)\n",
        "plt.title(f'Variable \"{variable}\" histogram')\n",
        "plt.show()"
      ],
      "id": "hTMVSb5QpyMN",
      "execution_count": 5,
      "outputs": [
        {
          "output_type": "display_data",
          "data": {
            "image/png": "[encoded data removed]",
            "text/plain": [
              "<Figure size 432x288 with 1 Axes>"
            ]
          },
          "metadata": {
            "tags": [],
            "needs_background": "light"
          }
        }
      ]
    },
    {
      "cell_type": "code",
      "metadata": {
        "id": "PBaUNvCLrnXy",
        "outputId": "abbb1fdc-8c14-4a74-a212-957e358cf8f4",
        "colab": {
          "base_uri": "https://localhost:8080/"
        }
      },
      "source": [
        "train_data, valid_data = train_test_split(normalized_data.values, test_size=0.2)\n",
        "print(f'train data size: {train_data.shape}')\n",
        "print(f'valid data size: {valid_data.shape}')\n",
        "\n",
        "input_dim =  train_data.shape[1]\n",
        "\n",
        "train_data = tf.cast(train_data, tf.float32)\n",
        "valid_data = tf.cast(valid_data, tf.float32)"
      ],
      "id": "PBaUNvCLrnXy",
      "execution_count": 6,
      "outputs": [
        {
          "output_type": "stream",
          "text": [
            "train data size: (200000, 52)\n",
            "valid data size: (50000, 52)\n"
          ],
          "name": "stdout"
        }
      ]
    },
    {
      "cell_type": "code",
      "metadata": {
        "id": "9mthaNpTmj6S"
      },
      "source": [
        "class Autoencoder(Model):\n",
        "    def __init__(self, input_dim):\n",
        "        super(Autoencoder, self).__init__()\n",
        "        self.encoder = tf.keras.Sequential([\n",
        "            layers.Dense(256, activation='relu'),\n",
        "            layers.Dense(128, activation='relu'),\n",
        "            layers.Dense(input_dim // 3, activation='relu')\n",
        "        ])\n",
        "\n",
        "        self.decoder = tf.keras.Sequential([\n",
        "            layers.Dense(128, activation='relu'),\n",
        "            layers.Dense(256, activation='relu'),\n",
        "            layers.Dense(input_dim)\n",
        "        ])\n",
        "\n",
        "    def call(self, x):\n",
        "        encoded = self.encoder(x)\n",
        "        decoded = self.decoder(encoded)\n",
        "        return decoded\n",
        "\n",
        "model = Autoencoder(input_dim)"
      ],
      "id": "9mthaNpTmj6S",
      "execution_count": 95,
      "outputs": []
    },
    {
      "cell_type": "code",
      "metadata": {
        "id": "oSEV9lDdsqbq"
      },
      "source": [
        "model.compile(optimizer=tf.optimizers.Adam(learning_rate=0.005), \n",
        "              loss=tf.losses.MeanSquaredError(), \n",
        "              metrics=[tf.metrics.MeanSquaredError()])\n",
        "\n",
        "reduce_lr = tf.keras.callbacks.ReduceLROnPlateau(monitor='val_loss', \n",
        "                                                 factor=0.5, \n",
        "                                                 patience=5, \n",
        "                                                 min_lr=0.0001,\n",
        "                                                 verbose=1)"
      ],
      "id": "oSEV9lDdsqbq",
      "execution_count": 96,
      "outputs": []
    },
    {
      "cell_type": "code",
      "metadata": {
        "id": "tC-a1v8itDTs",
        "outputId": "789d69ce-a777-4411-9ebc-9094e0b03249",
        "colab": {
          "base_uri": "https://localhost:8080/"
        }
      },
      "source": [
        "history = model.fit(train_data, train_data, \n",
        "                    epochs=100, \n",
        "                    batch_size=256, \n",
        "                    validation_data=(valid_data, valid_data), \n",
        "                    shuffle=True, \n",
        "                    callbacks=[reduce_lr])"
      ],
      "id": "tC-a1v8itDTs",
      "execution_count": null,
      "outputs": [
        {
          "output_type": "stream",
          "text": [
            "Epoch 1/100\n",
            "782/782 [==============================] - 3s 3ms/step - loss: 0.4220 - mean_squared_error: 0.4220 - val_loss: 0.3993 - val_mean_squared_error: 0.3993\n",
            "Epoch 2/100\n",
            "782/782 [==============================] - 2s 3ms/step - loss: 0.3986 - mean_squared_error: 0.3986 - val_loss: 0.3973 - val_mean_squared_error: 0.3973\n",
            "Epoch 3/100\n",
            "782/782 [==============================] - 2s 3ms/step - loss: 0.3965 - mean_squared_error: 0.3965 - val_loss: 0.3926 - val_mean_squared_error: 0.3926\n",
            "Epoch 4/100\n",
            "782/782 [==============================] - 2s 3ms/step - loss: 0.3827 - mean_squared_error: 0.3827 - val_loss: 0.3729 - val_mean_squared_error: 0.3729\n",
            "Epoch 5/100\n",
            "782/782 [==============================] - 2s 3ms/step - loss: 0.3691 - mean_squared_error: 0.3691 - val_loss: 0.3616 - val_mean_squared_error: 0.3616\n",
            "Epoch 6/100\n",
            "782/782 [==============================] - 2s 3ms/step - loss: 0.3561 - mean_squared_error: 0.3561 - val_loss: 0.3493 - val_mean_squared_error: 0.3493\n",
            "Epoch 7/100\n",
            "782/782 [==============================] - 2s 3ms/step - loss: 0.3454 - mean_squared_error: 0.3454 - val_loss: 0.3419 - val_mean_squared_error: 0.3419\n",
            "Epoch 8/100\n",
            "782/782 [==============================] - 2s 3ms/step - loss: 0.3420 - mean_squared_error: 0.3420 - val_loss: 0.3423 - val_mean_squared_error: 0.3423\n",
            "Epoch 9/100\n",
            "782/782 [==============================] - 2s 3ms/step - loss: 0.3404 - mean_squared_error: 0.3404 - val_loss: 0.3405 - val_mean_squared_error: 0.3405\n",
            "Epoch 10/100\n",
            "782/782 [==============================] - 2s 3ms/step - loss: 0.3386 - mean_squared_error: 0.3386 - val_loss: 0.3391 - val_mean_squared_error: 0.3391\n",
            "Epoch 11/100\n",
            "782/782 [==============================] - 2s 3ms/step - loss: 0.3381 - mean_squared_error: 0.3381 - val_loss: 0.3388 - val_mean_squared_error: 0.3388\n",
            "Epoch 12/100\n",
            "782/782 [==============================] - 2s 3ms/step - loss: 0.3377 - mean_squared_error: 0.3377 - val_loss: 0.3368 - val_mean_squared_error: 0.3368\n",
            "Epoch 13/100\n",
            "782/782 [==============================] - 2s 3ms/step - loss: 0.3365 - mean_squared_error: 0.3365 - val_loss: 0.3360 - val_mean_squared_error: 0.3360\n",
            "Epoch 14/100\n",
            "782/782 [==============================] - 2s 3ms/step - loss: 0.3350 - mean_squared_error: 0.3350 - val_loss: 0.3344 - val_mean_squared_error: 0.3344\n",
            "Epoch 15/100\n",
            "782/782 [==============================] - 2s 3ms/step - loss: 0.3343 - mean_squared_error: 0.3343 - val_loss: 0.3331 - val_mean_squared_error: 0.3331\n",
            "Epoch 16/100\n",
            "782/782 [==============================] - 2s 3ms/step - loss: 0.3331 - mean_squared_error: 0.3331 - val_loss: 0.3357 - val_mean_squared_error: 0.3357\n",
            "Epoch 17/100\n",
            "782/782 [==============================] - 2s 3ms/step - loss: 0.3321 - mean_squared_error: 0.3321 - val_loss: 0.3332 - val_mean_squared_error: 0.3332\n",
            "Epoch 18/100\n",
            "782/782 [==============================] - 2s 3ms/step - loss: 0.3310 - mean_squared_error: 0.3310 - val_loss: 0.3293 - val_mean_squared_error: 0.3293\n",
            "Epoch 19/100\n",
            "782/782 [==============================] - 2s 3ms/step - loss: 0.3301 - mean_squared_error: 0.3301 - val_loss: 0.3303 - val_mean_squared_error: 0.3303\n",
            "Epoch 20/100\n",
            "782/782 [==============================] - 2s 3ms/step - loss: 0.3297 - mean_squared_error: 0.3297 - val_loss: 0.3311 - val_mean_squared_error: 0.3311\n",
            "Epoch 21/100\n",
            "782/782 [==============================] - 2s 3ms/step - loss: 0.3290 - mean_squared_error: 0.3290 - val_loss: 0.3316 - val_mean_squared_error: 0.3316\n",
            "Epoch 22/100\n",
            "782/782 [==============================] - 2s 3ms/step - loss: 0.3271 - mean_squared_error: 0.3271 - val_loss: 0.3293 - val_mean_squared_error: 0.3293\n",
            "Epoch 23/100\n",
            "782/782 [==============================] - 2s 3ms/step - loss: 0.3268 - mean_squared_error: 0.3268 - val_loss: 0.3278 - val_mean_squared_error: 0.3278\n",
            "Epoch 24/100\n",
            "782/782 [==============================] - 2s 3ms/step - loss: 0.3259 - mean_squared_error: 0.3259 - val_loss: 0.3273 - val_mean_squared_error: 0.3273\n",
            "Epoch 25/100\n",
            "782/782 [==============================] - 2s 3ms/step - loss: 0.3261 - mean_squared_error: 0.3261 - val_loss: 0.3262 - val_mean_squared_error: 0.3262\n",
            "Epoch 26/100\n",
            "782/782 [==============================] - 2s 3ms/step - loss: 0.3261 - mean_squared_error: 0.3261 - val_loss: 0.3269 - val_mean_squared_error: 0.3269\n",
            "Epoch 27/100\n",
            "782/782 [==============================] - 2s 3ms/step - loss: 0.3253 - mean_squared_error: 0.3253 - val_loss: 0.3244 - val_mean_squared_error: 0.3244\n",
            "Epoch 28/100\n",
            "782/782 [==============================] - 2s 3ms/step - loss: 0.3264 - mean_squared_error: 0.3264 - val_loss: 0.3245 - val_mean_squared_error: 0.3245\n",
            "Epoch 29/100\n",
            "782/782 [==============================] - 2s 3ms/step - loss: 0.3235 - mean_squared_error: 0.3235 - val_loss: 0.3257 - val_mean_squared_error: 0.3257\n",
            "Epoch 30/100\n",
            "782/782 [==============================] - 2s 3ms/step - loss: 0.3228 - mean_squared_error: 0.3228 - val_loss: 0.3224 - val_mean_squared_error: 0.3224\n",
            "Epoch 31/100\n",
            "782/782 [==============================] - 2s 3ms/step - loss: 0.3234 - mean_squared_error: 0.3234 - val_loss: 0.3244 - val_mean_squared_error: 0.3244\n",
            "Epoch 32/100\n",
            "782/782 [==============================] - 2s 3ms/step - loss: 0.3220 - mean_squared_error: 0.3220 - val_loss: 0.3283 - val_mean_squared_error: 0.3283\n",
            "Epoch 33/100\n",
            "782/782 [==============================] - 2s 3ms/step - loss: 0.3226 - mean_squared_error: 0.3226 - val_loss: 0.3228 - val_mean_squared_error: 0.3228\n",
            "Epoch 34/100\n",
            "782/782 [==============================] - 2s 3ms/step - loss: 0.3219 - mean_squared_error: 0.3219 - val_loss: 0.3233 - val_mean_squared_error: 0.3233\n",
            "Epoch 35/100\n",
            "782/782 [==============================] - 2s 3ms/step - loss: 0.3221 - mean_squared_error: 0.3221 - val_loss: 0.3211 - val_mean_squared_error: 0.3211\n",
            "Epoch 36/100\n",
            "782/782 [==============================] - 2s 3ms/step - loss: 0.3216 - mean_squared_error: 0.3216 - val_loss: 0.3244 - val_mean_squared_error: 0.3244\n",
            "Epoch 37/100\n",
            "782/782 [==============================] - 2s 3ms/step - loss: 0.3200 - mean_squared_error: 0.3200 - val_loss: 0.3210 - val_mean_squared_error: 0.3210\n",
            "Epoch 38/100\n",
            "782/782 [==============================] - 2s 3ms/step - loss: 0.3181 - mean_squared_error: 0.3181 - val_loss: 0.3169 - val_mean_squared_error: 0.3169\n",
            "Epoch 39/100\n",
            "782/782 [==============================] - 2s 3ms/step - loss: 0.3160 - mean_squared_error: 0.3160 - val_loss: 0.3137 - val_mean_squared_error: 0.3137\n",
            "Epoch 40/100\n",
            "782/782 [==============================] - 2s 3ms/step - loss: 0.3127 - mean_squared_error: 0.3127 - val_loss: 0.3149 - val_mean_squared_error: 0.3149\n",
            "Epoch 41/100\n",
            "782/782 [==============================] - 2s 3ms/step - loss: 0.3113 - mean_squared_error: 0.3113 - val_loss: 0.3119 - val_mean_squared_error: 0.3119\n",
            "Epoch 42/100\n",
            "782/782 [==============================] - 2s 3ms/step - loss: 0.3099 - mean_squared_error: 0.3099 - val_loss: 0.3136 - val_mean_squared_error: 0.3136\n",
            "Epoch 43/100\n",
            "782/782 [==============================] - 2s 3ms/step - loss: 0.3092 - mean_squared_error: 0.3092 - val_loss: 0.3080 - val_mean_squared_error: 0.3080\n",
            "Epoch 44/100\n",
            "782/782 [==============================] - 2s 3ms/step - loss: 0.3083 - mean_squared_error: 0.3083 - val_loss: 0.3091 - val_mean_squared_error: 0.3091\n",
            "Epoch 45/100\n",
            "782/782 [==============================] - 2s 3ms/step - loss: 0.3079 - mean_squared_error: 0.3079 - val_loss: 0.3090 - val_mean_squared_error: 0.3090\n",
            "Epoch 46/100\n",
            "782/782 [==============================] - 2s 3ms/step - loss: 0.3088 - mean_squared_error: 0.3088 - val_loss: 0.3087 - val_mean_squared_error: 0.3087\n"
          ],
          "name": "stdout"
        }
      ]
    },
    {
      "cell_type": "code",
      "metadata": {
        "id": "UAAf_rQx0VUP",
        "outputId": "c978c3d4-c84d-4d6d-b83d-35d0f9c8046d",
        "colab": {
          "base_uri": "https://localhost:8080/",
          "height": 296
        }
      },
      "source": [
        "plt.plot(history.history[\"loss\"], label=\"Training Loss\")\n",
        "plt.plot(history.history[\"val_loss\"], label=\"Validation Loss\")\n",
        "plt.xlabel('Epochs')\n",
        "plt.ylabel('L1 Loss')\n",
        "plt.legend()"
      ],
      "id": "UAAf_rQx0VUP",
      "execution_count": 88,
      "outputs": [
        {
          "output_type": "execute_result",
          "data": {
            "text/plain": [
              "<matplotlib.legend.Legend at 0x7ff2a9a07950>"
            ]
          },
          "metadata": {
            "tags": []
          },
          "execution_count": 88
        },
        {
          "output_type": "display_data",
          "data": {
            "image/png": "[encoded data removed]",
            "text/plain": [
              "<Figure size 432x288 with 1 Axes>"
            ]
          },
          "metadata": {
            "tags": [],
            "needs_background": "light"
          }
        }
      ]
    },
    {
      "cell_type": "code",
      "metadata": {
        "id": "zdBupTcXtvG6",
        "outputId": "8dac2271-4fe6-4620-d779-e6bb0834df31",
        "colab": {
          "base_uri": "https://localhost:8080/",
          "height": 278
        }
      },
      "source": [
        "encoded_data = model.encoder(train_data).numpy()\n",
        "decoded_data = model.decoder(encoded_data).numpy()\n",
        "\n",
        "index = 1\n",
        "plt.plot(train_data[index], 'b')\n",
        "plt.plot(decoded_data[index], 'r')\n",
        "plt.fill_between(np.arange(52), decoded_data[index], train_data[index], color='lightcoral')\n",
        "plt.legend(labels=[\"Input\", \"Reconstruction\", \"Error\"])\n",
        "plt.xlabel('Variables')\n",
        "plt.show()"
      ],
      "id": "zdBupTcXtvG6",
      "execution_count": 92,
      "outputs": [
        {
          "output_type": "display_data",
          "data": {
            "image/png": "[encoded data removed]",
            "text/plain": [
              "<Figure size 432x288 with 1 Axes>"
            ]
          },
          "metadata": {
            "tags": [],
            "needs_background": "light"
          }
        }
      ]
    },
    {
      "cell_type": "code",
      "metadata": {
        "id": "TZMUcSou3XVN",
        "outputId": "a34a3f62-a4b8-46f5-b4c1-73d2e894aa01",
        "colab": {
          "base_uri": "https://localhost:8080/"
        }
      },
      "source": [
        "encoded_data[index]"
      ],
      "id": "TZMUcSou3XVN",
      "execution_count": 94,
      "outputs": [
        {
          "output_type": "execute_result",
          "data": {
            "text/plain": [
              "array([1.5082954 , 0.5703572 , 0.7611357 , 0.3313443 , 1.1946443 ,\n",
              "       0.        , 1.054124  , 1.9735677 , 0.9448969 , 1.3062999 ,\n",
              "       0.5375215 , 0.        , 1.1155738 , 0.        , 1.2375009 ,\n",
              "       0.91448975, 0.5818467 , 0.        , 0.7344273 , 0.72340024,\n",
              "       0.8397743 , 0.96038914, 0.83528084, 1.0105069 , 0.42067552,\n",
              "       0.        ], dtype=float32)"
            ]
          },
          "metadata": {
            "tags": []
          },
          "execution_count": 94
        }
      ]
    },
    {
      "cell_type": "code",
      "metadata": {
        "id": "VEAPzitl3acE"
      },
      "source": [
        ""
      ],
      "id": "VEAPzitl3acE",
      "execution_count": null,
      "outputs": []
    }
  ]
}