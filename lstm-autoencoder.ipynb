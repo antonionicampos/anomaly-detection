{
 "cells": [
  {
   "cell_type": "code",
   "execution_count": 5,
   "id": "indian-enclosure",
   "metadata": {
    "colab": {
     "base_uri": "https://localhost:8080/"
    },
    "id": "indian-enclosure",
    "outputId": "1c90741d-ffef-41a1-f6e7-07464cfeb5db"
   },
   "outputs": [
    {
     "name": "stdout",
     "output_type": "stream",
     "text": [
      "GPUs Available: 1\n"
     ]
    }
   ],
   "source": [
    "import matplotlib.pyplot as plt\n",
    "import numpy as np\n",
    "import pandas as pd\n",
    "import tensorflow as tf\n",
    "\n",
    "from sklearn.model_selection import train_test_split\n",
    "from tensorflow.keras import layers, losses\n",
    "from tensorflow.keras.models import Model\n",
    "\n",
    "print(f'GPUs Available: {len(tf.config.list_physical_devices(\"GPU\"))}')"
   ]
  },
  {
   "cell_type": "code",
   "execution_count": 6,
   "id": "relevant-singles",
   "metadata": {
    "id": "relevant-singles"
   },
   "outputs": [
    {
     "data": {
      "text/html": [
       "<div>\n",
       "<style scoped>\n",
       "    .dataframe tbody tr th:only-of-type {\n",
       "        vertical-align: middle;\n",
       "    }\n",
       "\n",
       "    .dataframe tbody tr th {\n",
       "        vertical-align: top;\n",
       "    }\n",
       "\n",
       "    .dataframe thead th {\n",
       "        text-align: right;\n",
       "    }\n",
       "</style>\n",
       "<table border=\"1\" class=\"dataframe\">\n",
       "  <thead>\n",
       "    <tr style=\"text-align: right;\">\n",
       "      <th></th>\n",
       "      <th>xmeas_1</th>\n",
       "      <th>xmeas_2</th>\n",
       "      <th>xmeas_3</th>\n",
       "      <th>xmeas_4</th>\n",
       "      <th>xmeas_5</th>\n",
       "      <th>xmeas_6</th>\n",
       "      <th>xmeas_7</th>\n",
       "      <th>xmeas_8</th>\n",
       "      <th>xmeas_9</th>\n",
       "      <th>xmeas_10</th>\n",
       "      <th>...</th>\n",
       "      <th>xmv_2</th>\n",
       "      <th>xmv_3</th>\n",
       "      <th>xmv_4</th>\n",
       "      <th>xmv_5</th>\n",
       "      <th>xmv_6</th>\n",
       "      <th>xmv_7</th>\n",
       "      <th>xmv_8</th>\n",
       "      <th>xmv_9</th>\n",
       "      <th>xmv_10</th>\n",
       "      <th>xmv_11</th>\n",
       "    </tr>\n",
       "  </thead>\n",
       "  <tbody>\n",
       "    <tr>\n",
       "      <th>0</th>\n",
       "      <td>-0.003307</td>\n",
       "      <td>0.300364</td>\n",
       "      <td>0.514599</td>\n",
       "      <td>-1.342731</td>\n",
       "      <td>-0.062398</td>\n",
       "      <td>0.294726</td>\n",
       "      <td>-0.098047</td>\n",
       "      <td>-0.252914</td>\n",
       "      <td>0.522186</td>\n",
       "      <td>0.089759</td>\n",
       "      <td>...</td>\n",
       "      <td>-0.489006</td>\n",
       "      <td>0.005770</td>\n",
       "      <td>1.001362</td>\n",
       "      <td>-0.150228</td>\n",
       "      <td>-0.078897</td>\n",
       "      <td>1.424527</td>\n",
       "      <td>0.520011</td>\n",
       "      <td>-0.165134</td>\n",
       "      <td>0.284191</td>\n",
       "      <td>0.224294</td>\n",
       "    </tr>\n",
       "    <tr>\n",
       "      <th>1</th>\n",
       "      <td>0.019690</td>\n",
       "      <td>-0.128967</td>\n",
       "      <td>1.218404</td>\n",
       "      <td>0.925080</td>\n",
       "      <td>-0.856779</td>\n",
       "      <td>1.091016</td>\n",
       "      <td>-0.005032</td>\n",
       "      <td>-0.000158</td>\n",
       "      <td>0.522186</td>\n",
       "      <td>-0.068269</td>\n",
       "      <td>...</td>\n",
       "      <td>-1.191637</td>\n",
       "      <td>-0.016944</td>\n",
       "      <td>-1.639727</td>\n",
       "      <td>-0.250199</td>\n",
       "      <td>0.078954</td>\n",
       "      <td>0.153478</td>\n",
       "      <td>-1.208816</td>\n",
       "      <td>-0.195688</td>\n",
       "      <td>0.470946</td>\n",
       "      <td>-0.631769</td>\n",
       "    </tr>\n",
       "    <tr>\n",
       "      <th>2</th>\n",
       "      <td>-0.003307</td>\n",
       "      <td>-0.102502</td>\n",
       "      <td>-0.791010</td>\n",
       "      <td>1.114064</td>\n",
       "      <td>-0.128596</td>\n",
       "      <td>-1.224631</td>\n",
       "      <td>0.154424</td>\n",
       "      <td>-0.422647</td>\n",
       "      <td>1.045513</td>\n",
       "      <td>-0.113762</td>\n",
       "      <td>...</td>\n",
       "      <td>0.816185</td>\n",
       "      <td>0.008733</td>\n",
       "      <td>-0.018895</td>\n",
       "      <td>0.308127</td>\n",
       "      <td>0.123493</td>\n",
       "      <td>0.300513</td>\n",
       "      <td>0.070048</td>\n",
       "      <td>-0.180595</td>\n",
       "      <td>0.175097</td>\n",
       "      <td>1.647422</td>\n",
       "    </tr>\n",
       "    <tr>\n",
       "      <th>3</th>\n",
       "      <td>-0.023065</td>\n",
       "      <td>-0.073095</td>\n",
       "      <td>0.083646</td>\n",
       "      <td>1.522363</td>\n",
       "      <td>-0.681826</td>\n",
       "      <td>-1.256665</td>\n",
       "      <td>0.287304</td>\n",
       "      <td>0.413106</td>\n",
       "      <td>-0.524468</td>\n",
       "      <td>-0.121743</td>\n",
       "      <td>...</td>\n",
       "      <td>-0.058910</td>\n",
       "      <td>0.028155</td>\n",
       "      <td>-1.159749</td>\n",
       "      <td>0.113845</td>\n",
       "      <td>0.132008</td>\n",
       "      <td>-0.009071</td>\n",
       "      <td>0.428147</td>\n",
       "      <td>-0.110653</td>\n",
       "      <td>0.996077</td>\n",
       "      <td>-0.020296</td>\n",
       "    </tr>\n",
       "    <tr>\n",
       "      <th>4</th>\n",
       "      <td>1.411175</td>\n",
       "      <td>0.447396</td>\n",
       "      <td>-0.301407</td>\n",
       "      <td>-0.105001</td>\n",
       "      <td>-0.062398</td>\n",
       "      <td>1.429668</td>\n",
       "      <td>0.008256</td>\n",
       "      <td>0.715675</td>\n",
       "      <td>-0.524468</td>\n",
       "      <td>-0.856811</td>\n",
       "      <td>...</td>\n",
       "      <td>-0.672116</td>\n",
       "      <td>1.368624</td>\n",
       "      <td>-0.467518</td>\n",
       "      <td>-0.508613</td>\n",
       "      <td>-0.596991</td>\n",
       "      <td>1.300424</td>\n",
       "      <td>0.472378</td>\n",
       "      <td>-0.225506</td>\n",
       "      <td>0.744606</td>\n",
       "      <td>0.233859</td>\n",
       "    </tr>\n",
       "  </tbody>\n",
       "</table>\n",
       "<p>5 rows × 52 columns</p>\n",
       "</div>"
      ],
      "text/plain": [
       "    xmeas_1   xmeas_2   xmeas_3   xmeas_4   xmeas_5   xmeas_6   xmeas_7  \\\n",
       "0 -0.003307  0.300364  0.514599 -1.342731 -0.062398  0.294726 -0.098047   \n",
       "1  0.019690 -0.128967  1.218404  0.925080 -0.856779  1.091016 -0.005032   \n",
       "2 -0.003307 -0.102502 -0.791010  1.114064 -0.128596 -1.224631  0.154424   \n",
       "3 -0.023065 -0.073095  0.083646  1.522363 -0.681826 -1.256665  0.287304   \n",
       "4  1.411175  0.447396 -0.301407 -0.105001 -0.062398  1.429668  0.008256   \n",
       "\n",
       "    xmeas_8   xmeas_9  xmeas_10  ...     xmv_2     xmv_3     xmv_4     xmv_5  \\\n",
       "0 -0.252914  0.522186  0.089759  ... -0.489006  0.005770  1.001362 -0.150228   \n",
       "1 -0.000158  0.522186 -0.068269  ... -1.191637 -0.016944 -1.639727 -0.250199   \n",
       "2 -0.422647  1.045513 -0.113762  ...  0.816185  0.008733 -0.018895  0.308127   \n",
       "3  0.413106 -0.524468 -0.121743  ... -0.058910  0.028155 -1.159749  0.113845   \n",
       "4  0.715675 -0.524468 -0.856811  ... -0.672116  1.368624 -0.467518 -0.508613   \n",
       "\n",
       "      xmv_6     xmv_7     xmv_8     xmv_9    xmv_10    xmv_11  \n",
       "0 -0.078897  1.424527  0.520011 -0.165134  0.284191  0.224294  \n",
       "1  0.078954  0.153478 -1.208816 -0.195688  0.470946 -0.631769  \n",
       "2  0.123493  0.300513  0.070048 -0.180595  0.175097  1.647422  \n",
       "3  0.132008 -0.009071  0.428147 -0.110653  0.996077 -0.020296  \n",
       "4 -0.596991  1.300424  0.472378 -0.225506  0.744606  0.233859  \n",
       "\n",
       "[5 rows x 52 columns]"
      ]
     },
     "execution_count": 6,
     "metadata": {},
     "output_type": "execute_result"
    }
   ],
   "source": [
    "normal = pd.read_hdf('./data/training_normal.h5')\n",
    "faulty = pd.read_hdf('./data/training_faulty.h5')\n",
    "mean = pd.read_hdf('./data/norm.h5', key='mean')\n",
    "std = pd.read_hdf('./data/norm.h5', key='std')\n",
    "\n",
    "normal_data = normal.iloc[:, 3:]\n",
    "normalized_data = (normal_data - mean) / std\n",
    "normalized_data.head()"
   ]
  },
  {
   "cell_type": "code",
   "execution_count": 7,
   "id": "SbTeHf53l5yJ",
   "metadata": {
    "colab": {
     "base_uri": "https://localhost:8080/",
     "height": 281
    },
    "id": "SbTeHf53l5yJ",
    "outputId": "65710575-c953-47d5-bf38-b1af95a91ad7"
   },
   "outputs": [
    {
     "data": {
      "image/png": "[encoded data removed]",
      "text/plain": [
       "<Figure size 1152x432 with 1 Axes>"
      ]
     },
     "metadata": {
      "needs_background": "light"
     },
     "output_type": "display_data"
    }
   ],
   "source": [
    "variable = 'xmeas_2'\n",
    "\n",
    "plt.figure(figsize=(16, 6))\n",
    "plt.grid()\n",
    "plt.plot(normalized_data.index[:1000], normalized_data[variable][:1000])\n",
    "plt.title(f'Variable \"{variable}\" plot')\n",
    "plt.show()"
   ]
  },
  {
   "cell_type": "code",
   "execution_count": 8,
   "id": "hTMVSb5QpyMN",
   "metadata": {
    "colab": {
     "base_uri": "https://localhost:8080/",
     "height": 281
    },
    "id": "hTMVSb5QpyMN",
    "outputId": "3de2bcdc-87b2-4a5e-8d82-0136fbfe3bf6"
   },
   "outputs": [
    {
     "data": {
      "image/png": "[encoded data removed]",
      "text/plain": [
       "<Figure size 432x288 with 1 Axes>"
      ]
     },
     "metadata": {
      "needs_background": "light"
     },
     "output_type": "display_data"
    }
   ],
   "source": [
    "plt.hist(normalized_data[variable], bins=25)\n",
    "plt.title(f'Variable \"{variable}\" histogram')\n",
    "plt.show()"
   ]
  },
  {
   "cell_type": "markdown",
   "id": "impossible-continuity",
   "metadata": {},
   "source": [
    "## LSTM Autoencoder model"
   ]
  },
  {
   "cell_type": "code",
   "execution_count": 9,
   "id": "returning-perspective",
   "metadata": {},
   "outputs": [],
   "source": [
    "def to_sequences(x, y, seq_size=10):\n",
    "    x_seq, y_seq = [], []\n",
    "    for i in range(len(x)-seq_size):\n",
    "        x_seq.append(x.iloc[i:i+seq_size].values)\n",
    "        y_seq.append(y.iloc[i+seq_size])\n",
    "    return np.array(x_seq), np.array(y_seq)\n",
    "        \n",
    "x, y = to_sequences(normalized_data, normalized_data)"
   ]
  },
  {
   "cell_type": "code",
   "execution_count": 10,
   "id": "PBaUNvCLrnXy",
   "metadata": {
    "colab": {
     "base_uri": "https://localhost:8080/"
    },
    "id": "PBaUNvCLrnXy",
    "outputId": "b14fe64f-da2a-4f48-ca67-676a3d7ce062"
   },
   "outputs": [
    {
     "name": "stdout",
     "output_type": "stream",
     "text": [
      "train data size: (199992, 10, 52)\n",
      "valid data size: (49998, 10, 52)\n"
     ]
    }
   ],
   "source": [
    "train_data, valid_data = train_test_split(x, test_size=0.2, shuffle=False)\n",
    "print(f'train data size: {train_data.shape}')\n",
    "print(f'valid data size: {valid_data.shape}')\n",
    "\n",
    "input_dims =  train_data.shape\n",
    "\n",
    "train_data = tf.cast(train_data, tf.float32)\n",
    "valid_data = tf.cast(valid_data, tf.float32)"
   ]
  },
  {
   "cell_type": "code",
   "execution_count": 11,
   "id": "9mthaNpTmj6S",
   "metadata": {
    "id": "9mthaNpTmj6S"
   },
   "outputs": [],
   "source": [
    "class LSTMAutoencoder(Model):\n",
    "    def __init__(self, input_dims):\n",
    "        super(LSTMAutoencoder, self).__init__()\n",
    "        self.encoder = tf.keras.Sequential([\n",
    "            layers.LSTM(128, return_sequences=True, input_shape=(input_dims[1], input_dims[2])),\n",
    "            layers.LSTM(32, return_sequences=False)\n",
    "        ])\n",
    "\n",
    "        self.decoder = tf.keras.Sequential([\n",
    "            layers.RepeatVector(input_dims[1]),\n",
    "            layers.LSTM(32, return_sequences=True),\n",
    "            layers.LSTM(128, return_sequences=True),\n",
    "            layers.TimeDistributed(layers.Dense(input_dims[2]))\n",
    "        ])\n",
    "\n",
    "    def call(self, x):\n",
    "        encoded = self.encoder(x)\n",
    "        decoded = self.decoder(encoded)\n",
    "        return decoded\n",
    "\n",
    "model = LSTMAutoencoder(input_dims)"
   ]
  },
  {
   "cell_type": "code",
   "execution_count": 12,
   "id": "oSEV9lDdsqbq",
   "metadata": {
    "id": "oSEV9lDdsqbq"
   },
   "outputs": [],
   "source": [
    "model.compile(optimizer=tf.optimizers.Adam(learning_rate=0.005), \n",
    "              loss=tf.losses.MeanSquaredError(), \n",
    "              metrics=[tf.metrics.MeanAbsoluteError()])\n",
    "\n",
    "reduce_lr = tf.keras.callbacks.ReduceLROnPlateau(monitor='val_loss', \n",
    "                                                 factor=0.5, \n",
    "                                                 patience=5, \n",
    "                                                 min_lr=0.0001,\n",
    "                                                 verbose=1)"
   ]
  },
  {
   "cell_type": "code",
   "execution_count": null,
   "id": "tC-a1v8itDTs",
   "metadata": {
    "colab": {
     "base_uri": "https://localhost:8080/"
    },
    "id": "tC-a1v8itDTs",
    "outputId": "22bc04db-4c7c-451f-d504-006abe49223a",
    "scrolled": true
   },
   "outputs": [
    {
     "name": "stdout",
     "output_type": "stream",
     "text": [
      "Epoch 1/150\n",
      "782/782 [==============================] - 24s 15ms/step - loss: 0.5896 - mean_absolute_error: 0.5783 - val_loss: 0.5368 - val_mean_absolute_error: 0.5438\n",
      "Epoch 2/150\n",
      "782/782 [==============================] - 10s 12ms/step - loss: 0.5285 - mean_absolute_error: 0.5381 - val_loss: 0.5258 - val_mean_absolute_error: 0.5352\n",
      "Epoch 3/150\n",
      "782/782 [==============================] - 9s 11ms/step - loss: 0.5222 - mean_absolute_error: 0.5323 - val_loss: 0.5216 - val_mean_absolute_error: 0.5311\n",
      "Epoch 4/150\n",
      "782/782 [==============================] - 9s 11ms/step - loss: 0.5203 - mean_absolute_error: 0.5303 - val_loss: 0.5209 - val_mean_absolute_error: 0.5308\n",
      "Epoch 5/150\n",
      "782/782 [==============================] - 9s 11ms/step - loss: 0.5167 - mean_absolute_error: 0.5259 - val_loss: 0.5129 - val_mean_absolute_error: 0.5204\n",
      "Epoch 6/150\n",
      "782/782 [==============================] - 9s 12ms/step - loss: 0.5129 - mean_absolute_error: 0.5208 - val_loss: 0.5196 - val_mean_absolute_error: 0.5265\n",
      "Epoch 7/150\n",
      "782/782 [==============================] - 9s 11ms/step - loss: 0.5138 - mean_absolute_error: 0.5213 - val_loss: 0.5127 - val_mean_absolute_error: 0.5204\n",
      "Epoch 8/150\n",
      "782/782 [==============================] - 9s 11ms/step - loss: 0.5126 - mean_absolute_error: 0.5199 - val_loss: 0.5106 - val_mean_absolute_error: 0.5172\n",
      "Epoch 9/150\n",
      "782/782 [==============================] - 9s 11ms/step - loss: 0.5086 - mean_absolute_error: 0.5156 - val_loss: 0.5102 - val_mean_absolute_error: 0.5171\n",
      "Epoch 10/150\n",
      "782/782 [==============================] - 9s 12ms/step - loss: 0.5095 - mean_absolute_error: 0.5166 - val_loss: 0.5092 - val_mean_absolute_error: 0.5160\n",
      "Epoch 11/150\n",
      "782/782 [==============================] - 9s 11ms/step - loss: 0.5086 - mean_absolute_error: 0.5155 - val_loss: 0.5082 - val_mean_absolute_error: 0.5146\n",
      "Epoch 12/150\n",
      "782/782 [==============================] - 9s 12ms/step - loss: 0.5111 - mean_absolute_error: 0.5182 - val_loss: 0.5119 - val_mean_absolute_error: 0.5187\n",
      "Epoch 13/150\n",
      "782/782 [==============================] - 9s 12ms/step - loss: 0.5089 - mean_absolute_error: 0.5158 - val_loss: 0.5100 - val_mean_absolute_error: 0.5161\n",
      "Epoch 14/150\n",
      "782/782 [==============================] - 9s 11ms/step - loss: 0.5080 - mean_absolute_error: 0.5146 - val_loss: 0.5129 - val_mean_absolute_error: 0.5191\n",
      "Epoch 15/150\n",
      "782/782 [==============================] - 9s 12ms/step - loss: 0.5078 - mean_absolute_error: 0.5143 - val_loss: 0.5090 - val_mean_absolute_error: 0.5152\n",
      "Epoch 16/150\n",
      "782/782 [==============================] - 9s 12ms/step - loss: 0.5073 - mean_absolute_error: 0.5136 - val_loss: 0.5092 - val_mean_absolute_error: 0.5150\n",
      "\n",
      "Epoch 00016: ReduceLROnPlateau reducing learning rate to 0.0024999999441206455.\n",
      "Epoch 17/150\n",
      "782/782 [==============================] - 9s 12ms/step - loss: 0.5027 - mean_absolute_error: 0.5084 - val_loss: 0.5037 - val_mean_absolute_error: 0.5091\n",
      "Epoch 18/150\n",
      "782/782 [==============================] - 9s 12ms/step - loss: 0.5036 - mean_absolute_error: 0.5096 - val_loss: 0.5049 - val_mean_absolute_error: 0.5105\n",
      "Epoch 19/150\n",
      "782/782 [==============================] - 9s 12ms/step - loss: 0.5021 - mean_absolute_error: 0.5078 - val_loss: 0.5029 - val_mean_absolute_error: 0.5086\n",
      "Epoch 20/150\n",
      "782/782 [==============================] - 9s 12ms/step - loss: 0.5017 - mean_absolute_error: 0.5074 - val_loss: 0.5046 - val_mean_absolute_error: 0.5100\n",
      "Epoch 21/150\n",
      "782/782 [==============================] - 9s 12ms/step - loss: 0.5021 - mean_absolute_error: 0.5079 - val_loss: 0.5038 - val_mean_absolute_error: 0.5091\n",
      "Epoch 22/150\n",
      "782/782 [==============================] - 9s 11ms/step - loss: 0.5014 - mean_absolute_error: 0.5070 - val_loss: 0.5027 - val_mean_absolute_error: 0.5082\n",
      "Epoch 23/150\n",
      "782/782 [==============================] - 9s 12ms/step - loss: 0.5020 - mean_absolute_error: 0.5078 - val_loss: 0.5031 - val_mean_absolute_error: 0.5082\n",
      "Epoch 24/150\n",
      "782/782 [==============================] - 9s 12ms/step - loss: 0.5018 - mean_absolute_error: 0.5074 - val_loss: 0.5044 - val_mean_absolute_error: 0.5097\n",
      "Epoch 25/150\n",
      "782/782 [==============================] - 9s 12ms/step - loss: 0.5023 - mean_absolute_error: 0.5080 - val_loss: 0.5026 - val_mean_absolute_error: 0.5077\n",
      "Epoch 26/150\n",
      "782/782 [==============================] - 9s 12ms/step - loss: 0.5005 - mean_absolute_error: 0.5060 - val_loss: 0.5020 - val_mean_absolute_error: 0.5071\n",
      "Epoch 27/150\n",
      "782/782 [==============================] - 9s 11ms/step - loss: 0.5013 - mean_absolute_error: 0.5071 - val_loss: 0.5030 - val_mean_absolute_error: 0.5081\n",
      "Epoch 28/150\n",
      "782/782 [==============================] - 9s 11ms/step - loss: 0.5010 - mean_absolute_error: 0.5067 - val_loss: 0.5033 - val_mean_absolute_error: 0.5088\n",
      "Epoch 29/150\n",
      "782/782 [==============================] - 9s 12ms/step - loss: 0.5022 - mean_absolute_error: 0.5081 - val_loss: 0.5036 - val_mean_absolute_error: 0.5090\n",
      "Epoch 30/150\n",
      "782/782 [==============================] - 9s 12ms/step - loss: 0.5008 - mean_absolute_error: 0.5066 - val_loss: 0.5021 - val_mean_absolute_error: 0.5074\n",
      "Epoch 31/150\n",
      "782/782 [==============================] - 9s 12ms/step - loss: 0.5004 - mean_absolute_error: 0.5062 - val_loss: 0.5014 - val_mean_absolute_error: 0.5066\n",
      "Epoch 32/150\n",
      "782/782 [==============================] - 9s 12ms/step - loss: 0.4999 - mean_absolute_error: 0.5056 - val_loss: 0.5025 - val_mean_absolute_error: 0.5080\n",
      "Epoch 33/150\n",
      "782/782 [==============================] - 9s 11ms/step - loss: 0.5004 - mean_absolute_error: 0.5064 - val_loss: 0.5020 - val_mean_absolute_error: 0.5073\n",
      "Epoch 34/150\n",
      "782/782 [==============================] - 9s 12ms/step - loss: 0.5004 - mean_absolute_error: 0.5062 - val_loss: 0.5023 - val_mean_absolute_error: 0.5073\n",
      "Epoch 35/150\n",
      "782/782 [==============================] - 9s 11ms/step - loss: 0.4998 - mean_absolute_error: 0.5054 - val_loss: 0.5013 - val_mean_absolute_error: 0.5065\n",
      "Epoch 36/150\n",
      "782/782 [==============================] - 9s 12ms/step - loss: 0.4997 - mean_absolute_error: 0.5055 - val_loss: 0.5069 - val_mean_absolute_error: 0.5143\n",
      "Epoch 37/150\n",
      "782/782 [==============================] - 9s 11ms/step - loss: 0.5018 - mean_absolute_error: 0.5080 - val_loss: 0.5017 - val_mean_absolute_error: 0.5069\n",
      "Epoch 38/150\n",
      "782/782 [==============================] - 9s 12ms/step - loss: 0.4995 - mean_absolute_error: 0.5052 - val_loss: 0.5009 - val_mean_absolute_error: 0.5060\n",
      "Epoch 39/150\n",
      "782/782 [==============================] - 9s 12ms/step - loss: 0.5003 - mean_absolute_error: 0.5061 - val_loss: 0.5019 - val_mean_absolute_error: 0.5071\n",
      "Epoch 40/150\n",
      "782/782 [==============================] - 11s 14ms/step - loss: 0.4996 - mean_absolute_error: 0.5053 - val_loss: 0.5012 - val_mean_absolute_error: 0.5060\n",
      "Epoch 41/150\n",
      "782/782 [==============================] - 9s 12ms/step - loss: 0.5003 - mean_absolute_error: 0.5060 - val_loss: 0.5017 - val_mean_absolute_error: 0.5072\n",
      "Epoch 42/150\n",
      "782/782 [==============================] - 10s 12ms/step - loss: 0.4992 - mean_absolute_error: 0.5048 - val_loss: 0.5015 - val_mean_absolute_error: 0.5066\n",
      "Epoch 43/150\n",
      "782/782 [==============================] - 10s 12ms/step - loss: 0.5000 - mean_absolute_error: 0.5058 - val_loss: 0.5032 - val_mean_absolute_error: 0.5086\n",
      "\n",
      "Epoch 00043: ReduceLROnPlateau reducing learning rate to 0.0012499999720603228.\n",
      "Epoch 44/150\n",
      "782/782 [==============================] - 10s 12ms/step - loss: 0.4987 - mean_absolute_error: 0.5041 - val_loss: 0.5014 - val_mean_absolute_error: 0.5063\n",
      "Epoch 45/150\n",
      "782/782 [==============================] - 10s 13ms/step - loss: 0.4989 - mean_absolute_error: 0.5044 - val_loss: 0.5007 - val_mean_absolute_error: 0.5054\n",
      "Epoch 46/150\n",
      "782/782 [==============================] - 9s 12ms/step - loss: 0.4980 - mean_absolute_error: 0.5033 - val_loss: 0.4998 - val_mean_absolute_error: 0.5044\n",
      "Epoch 47/150\n",
      "782/782 [==============================] - 9s 12ms/step - loss: 0.4976 - mean_absolute_error: 0.5029 - val_loss: 0.4999 - val_mean_absolute_error: 0.5046\n",
      "Epoch 48/150\n",
      "782/782 [==============================] - 9s 12ms/step - loss: 0.4979 - mean_absolute_error: 0.5032 - val_loss: 0.5000 - val_mean_absolute_error: 0.5047\n",
      "Epoch 49/150\n"
     ]
    },
    {
     "name": "stdout",
     "output_type": "stream",
     "text": [
      "782/782 [==============================] - 9s 12ms/step - loss: 0.4976 - mean_absolute_error: 0.5030 - val_loss: 0.4993 - val_mean_absolute_error: 0.5042\n",
      "Epoch 50/150\n",
      "782/782 [==============================] - 9s 12ms/step - loss: 0.4974 - mean_absolute_error: 0.5027 - val_loss: 0.4991 - val_mean_absolute_error: 0.5039\n",
      "Epoch 51/150\n",
      "782/782 [==============================] - 9s 12ms/step - loss: 0.4972 - mean_absolute_error: 0.5026 - val_loss: 0.4991 - val_mean_absolute_error: 0.5039\n",
      "Epoch 52/150\n",
      "782/782 [==============================] - 9s 12ms/step - loss: 0.4980 - mean_absolute_error: 0.5035 - val_loss: 0.4999 - val_mean_absolute_error: 0.5051\n",
      "Epoch 53/150\n",
      "782/782 [==============================] - 9s 12ms/step - loss: 0.4975 - mean_absolute_error: 0.5030 - val_loss: 0.4992 - val_mean_absolute_error: 0.5040\n",
      "Epoch 54/150\n",
      "782/782 [==============================] - 9s 12ms/step - loss: 0.4976 - mean_absolute_error: 0.5031 - val_loss: 0.4995 - val_mean_absolute_error: 0.5043\n",
      "Epoch 55/150\n",
      "782/782 [==============================] - 9s 12ms/step - loss: 0.4978 - mean_absolute_error: 0.5033 - val_loss: 0.4993 - val_mean_absolute_error: 0.5042\n",
      "\n",
      "Epoch 00055: ReduceLROnPlateau reducing learning rate to 0.0006249999860301614.\n",
      "Epoch 56/150\n",
      "782/782 [==============================] - 9s 12ms/step - loss: 0.4967 - mean_absolute_error: 0.5020 - val_loss: 0.4986 - val_mean_absolute_error: 0.5032\n",
      "Epoch 57/150\n",
      "782/782 [==============================] - 9s 12ms/step - loss: 0.4967 - mean_absolute_error: 0.5021 - val_loss: 0.4994 - val_mean_absolute_error: 0.5045\n",
      "Epoch 58/150\n",
      "782/782 [==============================] - 9s 12ms/step - loss: 0.4965 - mean_absolute_error: 0.5019 - val_loss: 0.4983 - val_mean_absolute_error: 0.5030\n",
      "Epoch 59/150\n",
      "782/782 [==============================] - 9s 12ms/step - loss: 0.4963 - mean_absolute_error: 0.5016 - val_loss: 0.4981 - val_mean_absolute_error: 0.5027\n",
      "Epoch 60/150\n",
      "782/782 [==============================] - 10s 13ms/step - loss: 0.4962 - mean_absolute_error: 0.5015 - val_loss: 0.4982 - val_mean_absolute_error: 0.5029\n",
      "Epoch 61/150\n",
      "782/782 [==============================] - 9s 12ms/step - loss: 0.4963 - mean_absolute_error: 0.5016 - val_loss: 0.4989 - val_mean_absolute_error: 0.5037\n",
      "Epoch 62/150\n",
      "782/782 [==============================] - 9s 12ms/step - loss: 0.4966 - mean_absolute_error: 0.5020 - val_loss: 0.4982 - val_mean_absolute_error: 0.5030\n",
      "Epoch 63/150\n",
      "782/782 [==============================] - 10s 12ms/step - loss: 0.4962 - mean_absolute_error: 0.5015 - val_loss: 0.4981 - val_mean_absolute_error: 0.5028\n",
      "Epoch 64/150\n",
      "782/782 [==============================] - 10s 12ms/step - loss: 0.4961 - mean_absolute_error: 0.5015 - val_loss: 0.4979 - val_mean_absolute_error: 0.5025\n",
      "Epoch 65/150\n",
      "782/782 [==============================] - 9s 12ms/step - loss: 0.4959 - mean_absolute_error: 0.5013 - val_loss: 0.4978 - val_mean_absolute_error: 0.5023\n",
      "Epoch 66/150\n",
      "782/782 [==============================] - 9s 12ms/step - loss: 0.4958 - mean_absolute_error: 0.5012 - val_loss: 0.4975 - val_mean_absolute_error: 0.5022\n",
      "Epoch 67/150\n",
      "782/782 [==============================] - 9s 12ms/step - loss: 0.4959 - mean_absolute_error: 0.5013 - val_loss: 0.4979 - val_mean_absolute_error: 0.5027\n",
      "Epoch 68/150\n",
      "782/782 [==============================] - 9s 12ms/step - loss: 0.4958 - mean_absolute_error: 0.5011 - val_loss: 0.4976 - val_mean_absolute_error: 0.5023\n",
      "Epoch 69/150\n",
      "782/782 [==============================] - 9s 12ms/step - loss: 0.4957 - mean_absolute_error: 0.5011 - val_loss: 0.4976 - val_mean_absolute_error: 0.5024\n",
      "Epoch 70/150\n",
      "782/782 [==============================] - 9s 11ms/step - loss: 0.4956 - mean_absolute_error: 0.5010 - val_loss: 0.4975 - val_mean_absolute_error: 0.5022\n",
      "Epoch 71/150\n",
      "782/782 [==============================] - 9s 12ms/step - loss: 0.4956 - mean_absolute_error: 0.5010 - val_loss: 0.4976 - val_mean_absolute_error: 0.5022\n",
      "\n",
      "Epoch 00071: ReduceLROnPlateau reducing learning rate to 0.0003124999930150807.\n",
      "Epoch 72/150\n",
      "782/782 [==============================] - 9s 11ms/step - loss: 0.4953 - mean_absolute_error: 0.5006 - val_loss: 0.4972 - val_mean_absolute_error: 0.5017\n",
      "Epoch 73/150\n",
      "782/782 [==============================] - 9s 11ms/step - loss: 0.4951 - mean_absolute_error: 0.5004 - val_loss: 0.4971 - val_mean_absolute_error: 0.5016\n",
      "Epoch 74/150\n",
      "782/782 [==============================] - 9s 12ms/step - loss: 0.4952 - mean_absolute_error: 0.5005 - val_loss: 0.4973 - val_mean_absolute_error: 0.5019\n",
      "Epoch 75/150\n",
      "782/782 [==============================] - 9s 12ms/step - loss: 0.4952 - mean_absolute_error: 0.5005 - val_loss: 0.4971 - val_mean_absolute_error: 0.5018\n",
      "Epoch 76/150\n",
      "782/782 [==============================] - 9s 11ms/step - loss: 0.4951 - mean_absolute_error: 0.5004 - val_loss: 0.4971 - val_mean_absolute_error: 0.5016\n",
      "Epoch 77/150\n",
      "782/782 [==============================] - 9s 12ms/step - loss: 0.4951 - mean_absolute_error: 0.5004 - val_loss: 0.4970 - val_mean_absolute_error: 0.5016\n",
      "Epoch 78/150\n",
      "782/782 [==============================] - 9s 12ms/step - loss: 0.4951 - mean_absolute_error: 0.5003 - val_loss: 0.4972 - val_mean_absolute_error: 0.5018\n",
      "Epoch 79/150\n",
      "782/782 [==============================] - 9s 11ms/step - loss: 0.4951 - mean_absolute_error: 0.5003 - val_loss: 0.4971 - val_mean_absolute_error: 0.5016\n",
      "Epoch 80/150\n",
      "782/782 [==============================] - 9s 11ms/step - loss: 0.4950 - mean_absolute_error: 0.5002 - val_loss: 0.4969 - val_mean_absolute_error: 0.5014\n",
      "Epoch 81/150\n",
      "782/782 [==============================] - 9s 12ms/step - loss: 0.4949 - mean_absolute_error: 0.5002 - val_loss: 0.4969 - val_mean_absolute_error: 0.5014\n",
      "Epoch 82/150\n",
      "782/782 [==============================] - 9s 12ms/step - loss: 0.4949 - mean_absolute_error: 0.5001 - val_loss: 0.4969 - val_mean_absolute_error: 0.5015\n",
      "Epoch 83/150\n",
      "782/782 [==============================] - 9s 11ms/step - loss: 0.4950 - mean_absolute_error: 0.5002 - val_loss: 0.4969 - val_mean_absolute_error: 0.5014\n",
      "Epoch 84/150\n",
      "782/782 [==============================] - 9s 12ms/step - loss: 0.4949 - mean_absolute_error: 0.5001 - val_loss: 0.4969 - val_mean_absolute_error: 0.5014\n",
      "Epoch 85/150\n",
      "782/782 [==============================] - 9s 11ms/step - loss: 0.4949 - mean_absolute_error: 0.5001 - val_loss: 0.4968 - val_mean_absolute_error: 0.5014\n",
      "Epoch 86/150\n",
      "782/782 [==============================] - ETA: 0s - loss: 0.4948 - mean_absolute_error: 0.5001"
     ]
    }
   ],
   "source": [
    "history = model.fit(train_data, train_data, \n",
    "                    epochs=150, \n",
    "                    batch_size=256, \n",
    "                    validation_data=(valid_data, valid_data), \n",
    "                    shuffle=True, \n",
    "                    callbacks=[reduce_lr])"
   ]
  },
  {
   "cell_type": "code",
   "execution_count": null,
   "id": "divine-insight",
   "metadata": {},
   "outputs": [],
   "source": [
    "plt.plot(history.history[\"loss\"], label=\"Training Loss\")\n",
    "plt.plot(history.history[\"val_loss\"], label=\"Validation Loss\")\n",
    "plt.xlabel('Epochs')\n",
    "plt.ylabel('L2 Loss')\n",
    "plt.legend()"
   ]
  },
  {
   "cell_type": "markdown",
   "id": "active-strand",
   "metadata": {},
   "source": [
    "## Save model"
   ]
  },
  {
   "cell_type": "code",
   "execution_count": null,
   "id": "vulnerable-writing",
   "metadata": {},
   "outputs": [],
   "source": [
    "# Save model\n",
    "model.save('saved_model/ae_loss_0967')"
   ]
  },
  {
   "cell_type": "markdown",
   "id": "spiritual-extraction",
   "metadata": {},
   "source": [
    "## Load model"
   ]
  },
  {
   "cell_type": "code",
   "execution_count": null,
   "id": "stylish-pregnancy",
   "metadata": {},
   "outputs": [],
   "source": [
    "# Load model\n",
    "model = tf.keras.models.load_model('saved_model/ae_loss_0967')\n",
    "\n",
    "# Evaluate the restored model\n",
    "mse, mae = model.evaluate(train_data, train_data, batch_size=200000, verbose=2)\n",
    "print('Restored model, train MSE: {:.4f}'.format(mse))\n",
    "print()\n",
    "mse, mae = model.evaluate(valid_data, valid_data, batch_size=50000, verbose=2)\n",
    "print('Restored model, valid MSE: {:.4f}'.format(mse))"
   ]
  },
  {
   "cell_type": "code",
   "execution_count": null,
   "id": "VEAPzitl3acE",
   "metadata": {
    "colab": {
     "base_uri": "https://localhost:8080/",
     "height": 278
    },
    "id": "VEAPzitl3acE",
    "outputId": "a0ae67fb-d701-4681-f4b7-a097b3ae03a7"
   },
   "outputs": [],
   "source": [
    "reconstructions = model.predict(train_data)\n",
    "train_loss = tf.keras.losses.mse(reconstructions, train_data)\n",
    "print(train_loss.shape)\n",
    "# plt.hist(train_loss[None,:], bins=50)\n",
    "# plt.xlabel(\"L2 Loss\")\n",
    "# plt.ylabel(\"Samples\")\n",
    "# plt.show()"
   ]
  },
  {
   "cell_type": "code",
   "execution_count": null,
   "id": "enormous-filter",
   "metadata": {},
   "outputs": [],
   "source": [
    "encoded_data = model.encoder(train_data)\n",
    "print(encoded.data.shape)"
   ]
  },
  {
   "cell_type": "code",
   "execution_count": null,
   "id": "humanitarian-uncle",
   "metadata": {},
   "outputs": [],
   "source": []
  },
  {
   "cell_type": "code",
   "execution_count": null,
   "id": "interested-reconstruction",
   "metadata": {
    "scrolled": false
   },
   "outputs": [],
   "source": [
    "faultNumber, simulationRun = 3, 324\n",
    "\n",
    "faulty_data = faulty[\n",
    "    (faulty['faultNumber'] == faultNumber) & \n",
    "    (faulty['simulationRun'] == simulationRun) &\n",
    "    (faulty['sample'] > 20)\n",
    "].iloc[:, 3:]\n",
    "\n",
    "faulty_data = (faulty_data - mean) / std\n",
    "faulty_data = tf.cast(faulty_data.values, tf.float32)\n",
    "\n",
    "# Normal data\n",
    "encoded_data = model.encoder(train_data).numpy()\n",
    "decoded_data = model.decoder(encoded_data).numpy()\n",
    "\n",
    "# Faulty data\n",
    "encoded_faulty_data = model.encoder(faulty_data).numpy()\n",
    "decoded_faulty_data = model.decoder(encoded_faulty_data).numpy()\n",
    "\n",
    "fig, axs = plt.subplots(3, 2, figsize=(16, 40))\n",
    "\n",
    "for row, sample in enumerate(np.sort(np.random.randint(20, 480, size=3))):\n",
    "    normal_abs_diff = np.abs(train_data[sample] - decoded_data[sample])\n",
    "    faulty_abs_diff = np.abs(faulty_data[sample] - decoded_faulty_data[sample])\n",
    "    for col in range(2):\n",
    "        if col == 0:\n",
    "            loss = tf.keras.losses.mse(train_data[sample], decoded_data[sample]).numpy()\n",
    "            axs[row, col].barh(normalized_data.columns, normal_abs_diff)\n",
    "            axs[row, col].set_title(f'Normal Data, sample {sample}, mse = {round(loss, 3)}')\n",
    "        else:\n",
    "            loss = tf.keras.losses.mse(faulty_data[sample], decoded_faulty_data[sample]).numpy()\n",
    "            axs[row, col].barh(normalized_data.columns, faulty_abs_diff)\n",
    "            axs[row, col].set_title(f'Fault #{faultNumber} Data, sample {sample}, mse = {round(loss, 3)}')\n",
    "        \n",
    "        axs[row, col].set_xlim((0, np.max([normal_abs_diff, faulty_abs_diff])))\n",
    "        axs[row, col].invert_yaxis()\n",
    "        axs[row, col].margins(y=0)\n",
    "    \n",
    "for ax in axs.flat:\n",
    "    ax.set(xlabel='Absolute Error', ylabel='Features')\n",
    "    \n",
    "fig.tight_layout()\n",
    "plt.show()"
   ]
  },
  {
   "cell_type": "code",
   "execution_count": null,
   "id": "conceptual-zoning",
   "metadata": {},
   "outputs": [],
   "source": [
    "# Run model for normal and faulty simulation \n",
    "# Train data\n",
    "reconstructions = model.predict(train_data)\n",
    "train_loss = tf.keras.losses.mse(reconstructions, train_data)\n",
    "\n",
    "# Valid data\n",
    "valid_reconstructions = model.predict(valid_data)\n",
    "valid_loss = tf.keras.losses.mse(valid_reconstructions, valid_data)\n",
    "\n",
    "# Fault data\n",
    "faulty_data = faulty[faulty['sample'] > 20].iloc[:, 3:].sample(n=250000)\n",
    "faulty_data = (faulty_data - mean) / std\n",
    "faulty_data = tf.cast(faulty_data.values, tf.float32)\n",
    "faulty_reconstructions = model.predict(faulty_data)\n",
    "faulty_loss = tf.keras.losses.mse(faulty_reconstructions, faulty_data)\n",
    "\n",
    "# Reconstruction error plot\n",
    "fig, axs = plt.subplots(2, 1, figsize=(16, 12))\n",
    "\n",
    "axs[0].scatter(np.arange(200000), train_loss, s=5)\n",
    "axs[0].scatter(np.arange(200001, 250001), valid_loss, color='g', s=5)\n",
    "axs[0].set_title('Reconstruction error for normal data')\n",
    "axs[0].grid()\n",
    "\n",
    "axs[1].scatter(np.arange(faulty_loss.shape[0]), faulty_loss, color='r', s=5)\n",
    "axs[1].set_title('Reconstruction error for faulty data')\n",
    "axs[1].grid()\n",
    "\n",
    "plt.show()"
   ]
  },
  {
   "cell_type": "code",
   "execution_count": null,
   "id": "Aw2suH39d9rh",
   "metadata": {
    "id": "Aw2suH39d9rh"
   },
   "outputs": [],
   "source": [
    "fig, axs = plt.subplots(10, 2, figsize=(16, 24))\n",
    "\n",
    "for i in range(0, 20):\n",
    "    row, col = divmod(i, 2)\n",
    "    \n",
    "    # Run model for fault simulation\n",
    "    faultNumber = i+1\n",
    "    simulationRun = np.random.randint(500)\n",
    "\n",
    "    faulty_data = faulty[(faulty['faultNumber'] == faultNumber) & (faulty['simulationRun'] == simulationRun)]\n",
    "    faulty_data = (faulty_data.iloc[:, 3:] - mean) / std\n",
    "    faulty_data = tf.cast(faulty_data.values, tf.float32)\n",
    "\n",
    "    reconstructions = model.predict(faulty_data)\n",
    "    loss = tf.keras.losses.mse(reconstructions, faulty_data)\n",
    "    \n",
    "    axs[row, col].grid()\n",
    "    axs[row, col].plot(np.arange(500), loss)\n",
    "    axs[row, col].set_title(f'Reconstruction for Fault {faultNumber}, Simulation {simulationRun}')\n",
    "    axs[row, col].vlines([20], 0, np.max(loss), colors='r')\n",
    "    \n",
    "for ax in axs.flat:\n",
    "    ax.set(xlabel='Sample', ylabel='L2 Loss')\n",
    "    \n",
    "fig.tight_layout()\n",
    "plt.show()"
   ]
  },
  {
   "cell_type": "markdown",
   "id": "veterinary-dodge",
   "metadata": {},
   "source": [
    "## Detecting fault"
   ]
  },
  {
   "cell_type": "code",
   "execution_count": null,
   "id": "aggregate-dutch",
   "metadata": {},
   "outputs": [],
   "source": [
    "normal_data = normal.iloc[:, 3:]\n",
    "faulty_data = faulty[\n",
    "    (faulty['simulationRun'] <= 20) & \n",
    "    (faulty['sample'] > 20)\n",
    "].iloc[:, 3:]\n",
    "\n",
    "norm_normal_data = (normal_data - mean) / std\n",
    "norm_faulty_data = (faulty_data - mean) / std\n",
    "\n",
    "print(norm_normal_data.shape)\n",
    "print(norm_faulty_data.shape)"
   ]
  },
  {
   "cell_type": "code",
   "execution_count": null,
   "id": "opposite-baseline",
   "metadata": {},
   "outputs": [],
   "source": [
    "normal_encoded = model.encoder(norm_normal_data.values).numpy()\n",
    "faulty_encoded = model.encoder(norm_faulty_data.values).numpy()\n",
    "\n",
    "normal_encoded = pd.DataFrame(normal_encoded, columns=[f'enc_{num+1}' for num in range(normal_encoded.shape[1])])\n",
    "faulty_encoded = pd.DataFrame(faulty_encoded, columns=[f'enc_{num+1}' for num in range(faulty_encoded.shape[1])])\n",
    "normal_encoded['fault'] = 0.0\n",
    "faulty_encoded['fault'] = 1.0\n",
    "\n",
    "data = pd.concat([normal_encoded, faulty_encoded], ignore_index=True)\n",
    "data = data.sample(n=20000)\n",
    "print(data['fault'].value_counts())\n",
    "display(data)"
   ]
  },
  {
   "cell_type": "code",
   "execution_count": null,
   "id": "decent-trunk",
   "metadata": {},
   "outputs": [],
   "source": [
    "from sklearn.svm import SVC\n",
    "from sklearn.metrics import plot_confusion_matrix\n",
    "\n",
    "X = data.iloc[:, :-1].values\n",
    "y = data.iloc[:, -1].values\n",
    "\n",
    "clf = SVC(C=1.0, kernel='rbf', gamma='auto', verbose=True)\n",
    "clf.fit(X, y)"
   ]
  },
  {
   "cell_type": "code",
   "execution_count": null,
   "id": "pretty-customer",
   "metadata": {},
   "outputs": [],
   "source": [
    "print(f'score: {clf.score(X, y)}')"
   ]
  },
  {
   "cell_type": "code",
   "execution_count": null,
   "id": "patient-battle",
   "metadata": {},
   "outputs": [],
   "source": [
    "fig, ax = plt.subplots(figsize=(8, 8))\n",
    "plot_confusion_matrix(clf, X, y, display_labels=['Normal', 'Fault'], \n",
    "                      cmap=plt.cm.Blues, normalize=None, ax=ax);"
   ]
  },
  {
   "cell_type": "code",
   "execution_count": null,
   "id": "operating-replication",
   "metadata": {},
   "outputs": [],
   "source": [
    "normal_samples = 500\n",
    "normal_kpi = clf.decision_function(normal_encoded.iloc[:normal_samples, :-1].values)"
   ]
  },
  {
   "cell_type": "code",
   "execution_count": null,
   "id": "norwegian-chassis",
   "metadata": {},
   "outputs": [],
   "source": [
    "x = np.arange(normal_samples)\n",
    "\n",
    "fig, ax = plt.subplots(figsize=(16, 5))\n",
    "ax.plot(x, np.tanh(normal_kpi))\n",
    "ax.grid()\n",
    "ax.axhline(color='black')\n",
    "ax.fill_between(x, 0, -1, facecolor='green', alpha=0.1)\n",
    "ax.fill_between(x, 0, 1, facecolor='red', alpha=0.1)\n",
    "ax.margins(x=0, y=0.04)\n",
    "ax.set_title('Normal data')\n",
    "plt.show()"
   ]
  },
  {
   "cell_type": "code",
   "execution_count": null,
   "id": "coral-restriction",
   "metadata": {},
   "outputs": [],
   "source": [
    "faultNumber = 19\n",
    "simulationRun = np.random.randint(0, 500)\n",
    "\n",
    "f_data = faulty[\n",
    "    (faulty['faultNumber'] == faultNumber) & \n",
    "    (faulty['simulationRun'] == simulationRun)\n",
    "].iloc[:, 3:]\n",
    "\n",
    "nf_data = (f_data - mean) / std\n",
    "f_encoded = model.encoder(nf_data.values).numpy()\n",
    "faulty_kpi = clf.decision_function(f_encoded)"
   ]
  },
  {
   "cell_type": "code",
   "execution_count": null,
   "id": "aging-preservation",
   "metadata": {},
   "outputs": [],
   "source": [
    "samples = 500\n",
    "x = np.arange(samples)\n",
    "\n",
    "fig, ax = plt.subplots(figsize=(16, 5))\n",
    "ax.plot(x, np.tanh(faulty_kpi))\n",
    "ax.grid()\n",
    "ax.axhline(color='black')\n",
    "ax.fill_between(x, 0, -1, facecolor='green', alpha=0.1)\n",
    "ax.fill_between(x, 0, 1, facecolor='red', alpha=0.1)\n",
    "ax.vlines([20], -1, 1, colors='r')\n",
    "ax.margins(x=0, y=0.04)\n",
    "ax.set_title(f'Fault #{faultNumber} data (simulation run #{simulationRun})')\n",
    "plt.show()"
   ]
  },
  {
   "cell_type": "code",
   "execution_count": null,
   "id": "qualified-commitment",
   "metadata": {},
   "outputs": [],
   "source": []
  }
 ],
 "metadata": {
  "accelerator": "GPU",
  "colab": {
   "name": "model_training_tf.ipynb",
   "provenance": []
  },
  "kernelspec": {
   "display_name": "Python 3",
   "language": "python",
   "name": "python3"
  },
  "language_info": {
   "codemirror_mode": {
    "name": "ipython",
    "version": 3
   },
   "file_extension": ".py",
   "mimetype": "text/x-python",
   "name": "python",
   "nbconvert_exporter": "python",
   "pygments_lexer": "ipython3",
   "version": "3.8.8"
  }
 },
 "nbformat": 4,
 "nbformat_minor": 5
}
